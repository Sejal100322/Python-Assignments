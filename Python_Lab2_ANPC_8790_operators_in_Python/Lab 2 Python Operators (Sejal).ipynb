{
  "nbformat": 4,
  "nbformat_minor": 0,
  "metadata": {
    "colab": {
      "provenance": []
    },
    "kernelspec": {
      "name": "python3",
      "display_name": "Python 3"
    },
    "language_info": {
      "name": "python"
    }
  },
  "cells": [
    {
      "cell_type": "markdown",
      "source": [
        "# 1. Using input() function take one number from the user and using ternary operators check whether the number is even or odd.\n",
        "\n"
      ],
      "metadata": {
        "id": "k1zQI0oaVGyN"
      }
    },
    {
      "cell_type": "code",
      "execution_count": 4,
      "metadata": {
        "colab": {
          "base_uri": "https://localhost:8080/"
        },
        "id": "48g7pVR2VBPB",
        "outputId": "7f021652-68a6-42c5-804f-16b67324e773"
      },
      "outputs": [
        {
          "output_type": "stream",
          "name": "stdout",
          "text": [
            "Enter a number: 7\n",
            "The number 7 is Odd.\n"
          ]
        }
      ],
      "source": [
        "number = int(input(\"Enter a number: \"))\n",
        "result = \"Even\" if number % 2 == 0 else \"Odd\"\n",
        "print(\"The number\", number, \"is\", result + \".\")\n",
        "\n"
      ]
    },
    {
      "cell_type": "markdown",
      "source": [
        "# 2. Using input function take two numbers and then swap the numbers.\n"
      ],
      "metadata": {
        "id": "TiYG_wt1VH0X"
      }
    },
    {
      "cell_type": "code",
      "source": [
        "num1 = input(\"Enter the first number: \")\n",
        "num2 = input(\"Enter the second number: \")\n",
        "print(\"Before swapping: num1 =\", num1, \", num2 =\", num2)\n",
        "num1, num2 = num2, num1\n",
        "print(\"After swapping: num1 =\", num1, \", num2 =\", num2)\n"
      ],
      "metadata": {
        "colab": {
          "base_uri": "https://localhost:8080/"
        },
        "id": "c_DkOyrnVIOn",
        "outputId": "41bf0820-1486-490d-a8de-31a2906cb965"
      },
      "execution_count": 5,
      "outputs": [
        {
          "output_type": "stream",
          "name": "stdout",
          "text": [
            "Enter the first number: 3\n",
            "Enter the second number: 6\n",
            "Before swapping: num1 = 3 , num2 = 6\n",
            "After swapping: num1 = 6 , num2 = 3\n"
          ]
        }
      ]
    },
    {
      "cell_type": "markdown",
      "source": [
        "# 3. Write a Program to Convert Kilometers to Miles.\n"
      ],
      "metadata": {
        "id": "l3aC7H-UVIhm"
      }
    },
    {
      "cell_type": "code",
      "source": [
        "kilometers = float(input(\"Enter value in kilometers: \"))\n",
        "conversion_factor = 0.621371\n",
        "\n",
        "miles = kilometers * conversion_factor\n",
        "\n",
        "print(kilometers, \"kilometers is equal to\", miles, \"miles.\")\n"
      ],
      "metadata": {
        "colab": {
          "base_uri": "https://localhost:8080/"
        },
        "id": "415VFZNXVJCg",
        "outputId": "86548e48-0e9c-4821-e7a9-054f738be2c9"
      },
      "execution_count": 6,
      "outputs": [
        {
          "output_type": "stream",
          "name": "stdout",
          "text": [
            "Enter value in kilometers: 5\n",
            "5.0 kilometers is equal to 3.106855 miles.\n"
          ]
        }
      ]
    },
    {
      "cell_type": "markdown",
      "source": [
        "# 4. Find the Simple Interest on Rs. 200 for 5 years at 5% per year.\n"
      ],
      "metadata": {
        "id": "C6ijIHfmVJW8"
      }
    },
    {
      "cell_type": "code",
      "source": [
        "principal = 200\n",
        "time = 5\n",
        "rate = 5\n",
        "simple_interest = (principal * time * rate) / 100\n",
        "print(\"The Simple Interest is:\", simple_interest)\n"
      ],
      "metadata": {
        "colab": {
          "base_uri": "https://localhost:8080/"
        },
        "id": "r0lJKxhSVJsl",
        "outputId": "cf7391b5-62d1-40e0-c30d-cc92cf416b0f"
      },
      "execution_count": 7,
      "outputs": [
        {
          "output_type": "stream",
          "name": "stdout",
          "text": [
            "The Simple Interest is: 50.0\n"
          ]
        }
      ]
    },
    {
      "cell_type": "markdown",
      "source": [
        "# 5. Calculate the area of a circle.\n",
        "# Formula: Area of Circle = πr^2\n"
      ],
      "metadata": {
        "id": "8lcbMqSSVLlr"
      }
    },
    {
      "cell_type": "code",
      "source": [
        "radius = float(input(\"Enter the radius of the circle: \"))\n",
        "pi = 3.14159\n",
        "area = pi * (radius ** 2)\n",
        "print(\"The area of the circle with radius\", radius, \"is\", area)\n"
      ],
      "metadata": {
        "colab": {
          "base_uri": "https://localhost:8080/"
        },
        "id": "uZq05D7VVMAR",
        "outputId": "b0aa11c8-3855-4377-a3ae-43283511b4b4"
      },
      "execution_count": 8,
      "outputs": [
        {
          "output_type": "stream",
          "name": "stdout",
          "text": [
            "Enter the radius of the circle: 6\n",
            "The area of the circle with radius 6.0 is 113.09724\n"
          ]
        }
      ]
    },
    {
      "cell_type": "markdown",
      "source": [
        "# 6. Calculate the area of a triangle.\n",
        "# Formula: Area of Triangle = (1/2) × Base × Height\n"
      ],
      "metadata": {
        "id": "zCmi9odVVMWR"
      }
    },
    {
      "cell_type": "code",
      "source": [
        "base = float(input(\"Enter the base of the triangle: \"))\n",
        "height = float(input(\"Enter the height of the triangle: \"))\n",
        "\n",
        "area = 0.5 * base * height\n",
        "\n",
        "print(\"The area of the triangle is\", area)\n"
      ],
      "metadata": {
        "colab": {
          "base_uri": "https://localhost:8080/"
        },
        "id": "HPzB8qzIVMsK",
        "outputId": "161472f3-3a03-430b-c233-33fe5e0092ff"
      },
      "execution_count": 9,
      "outputs": [
        {
          "output_type": "stream",
          "name": "stdout",
          "text": [
            "Enter the base of the triangle: 7\n",
            "Enter the height of the triangle: 9\n",
            "The area of the triangle is 31.5\n"
          ]
        }
      ]
    },
    {
      "cell_type": "markdown",
      "source": [
        "# 7. Calculate the area of a rectangle.\n",
        "# Formula: Area of Rectangle = Length × Width\n"
      ],
      "metadata": {
        "id": "aYXEkDEEVNBU"
      }
    },
    {
      "cell_type": "code",
      "source": [
        "length = float(input(\"Enter the length of the rectangle: \"))\n",
        "width = float(input(\"Enter the width of the rectangle: \"))\n",
        "\n",
        "area = length * width\n",
        "\n",
        "print(\"The area of the rectangle is\", area)\n"
      ],
      "metadata": {
        "colab": {
          "base_uri": "https://localhost:8080/"
        },
        "id": "O52wf6PPVNX7",
        "outputId": "4ccf5ce2-b673-4690-8936-ebe4033cfc88"
      },
      "execution_count": 10,
      "outputs": [
        {
          "output_type": "stream",
          "name": "stdout",
          "text": [
            "Enter the length of the rectangle: 12.5\n",
            "Enter the width of the rectangle: 7\n",
            "The area of the rectangle is 87.5\n"
          ]
        }
      ]
    },
    {
      "cell_type": "markdown",
      "source": [
        "# 8. Calculate the area of a square.\n",
        "# Formula: Area of Square = Side^2\n"
      ],
      "metadata": {
        "id": "0RR_1_xGVmRT"
      }
    },
    {
      "cell_type": "code",
      "source": [
        "side = float(input(\"Enter the side length of the square: \"))\n",
        "area = side ** 2\n",
        "\n",
        "print(\"The area of the square is\", area)\n"
      ],
      "metadata": {
        "colab": {
          "base_uri": "https://localhost:8080/"
        },
        "id": "RTJoE4JpVmqP",
        "outputId": "9aeafcf4-2a22-490a-d1fe-c9f6cc3ae7e2"
      },
      "execution_count": 11,
      "outputs": [
        {
          "output_type": "stream",
          "name": "stdout",
          "text": [
            "Enter the side length of the square: 5\n",
            "The area of the square is 25.0\n"
          ]
        }
      ]
    },
    {
      "cell_type": "markdown",
      "source": [
        "# 9. Calculate the multiplication and sum of two numbers.\n"
      ],
      "metadata": {
        "id": "Dks3o0tTVp7V"
      }
    },
    {
      "cell_type": "code",
      "source": [
        "num1 = float(input(\"Enter the first number: \"))\n",
        "num2 = float(input(\"Enter the second number: \"))\n",
        "\n",
        "sum_result = num1 + num2\n",
        "\n",
        "multiply = num1 * num2\n",
        "\n",
        "print(\"The sum of is\", sum_result)\n",
        "print(\"The multiplication of the two numbers is\", multiply)\n"
      ],
      "metadata": {
        "colab": {
          "base_uri": "https://localhost:8080/"
        },
        "id": "Mn7aocl-VqVe",
        "outputId": "a1cfba14-b020-43d7-c1b1-2fae78788445"
      },
      "execution_count": 13,
      "outputs": [
        {
          "output_type": "stream",
          "name": "stdout",
          "text": [
            "Enter the first number: 7\n",
            "Enter the second number: 9\n",
            "The sum of is 16.0\n",
            "The multiplication of the two numbers is 63.0\n"
          ]
        }
      ]
    },
    {
      "cell_type": "markdown",
      "source": [
        "# 10. Declare two variables and print which variable is largest.\n"
      ],
      "metadata": {
        "id": "g5RwJDDTVqvS"
      }
    },
    {
      "cell_type": "code",
      "source": [
        "a = float(input(\"Enter the first number: \"))\n",
        "b = float(input(\"Enter the second number: \"))\n",
        "if a > b:\n",
        "    print(\"The largest number is\", a)\n",
        "elif b > a:\n",
        "    print(\"The largest number is\", b)\n",
        "else:\n",
        "    print(\"Both numbers are equal\")\n"
      ],
      "metadata": {
        "colab": {
          "base_uri": "https://localhost:8080/"
        },
        "id": "JdP39755VrEH",
        "outputId": "b17f588c-5703-4bb3-96ac-28814425c445"
      },
      "execution_count": 14,
      "outputs": [
        {
          "output_type": "stream",
          "name": "stdout",
          "text": [
            "Enter the first number: 6\n",
            "Enter the second number: 8\n",
            "The largest number is 8.0\n"
          ]
        }
      ]
    },
    {
      "cell_type": "markdown",
      "source": [
        "# 11. Python program to convert the temperature in degree centigrade to Fahrenheit.\n"
      ],
      "metadata": {
        "id": "xnwUMLffVraA"
      }
    },
    {
      "cell_type": "code",
      "source": [
        "celsius = float(input(\"Enter temperature in Celsius: \"))\n",
        "\n",
        "fahrenheit = (celsius * 9/5) + 32\n",
        "\n",
        "print(celsius, \"degrees Celsius is equal to\", fahrenheit, \"degrees Fahrenheit.\")\n"
      ],
      "metadata": {
        "colab": {
          "base_uri": "https://localhost:8080/"
        },
        "id": "zairhFudVrwd",
        "outputId": "314f7c73-7544-4c70-ff67-177ce4c23db8"
      },
      "execution_count": 16,
      "outputs": [
        {
          "output_type": "stream",
          "name": "stdout",
          "text": [
            "Enter temperature in Celsius: 32\n",
            "32.0 degrees Celsius is equal to 89.6 degrees Fahrenheit.\n"
          ]
        }
      ]
    },
    {
      "cell_type": "markdown",
      "source": [
        "# 12. Python program to find the area of a triangle whose sides are given."
      ],
      "metadata": {
        "id": "tsua3qErVsXG"
      }
    },
    {
      "cell_type": "code",
      "source": [
        "a = float(input(\"Enter the length of the first side: \"))\n",
        "b = float(input(\"Enter the length of the second side: \"))\n",
        "c = float(input(\"Enter the length of the third side: \"))\n",
        "\n",
        "s = (a + b + c) / 2\n",
        "\n",
        "area = (s * (s - a) * (s - b) * (s - c)) ** 0.5\n",
        "\n",
        "print(\"The area of the triangle with sides is\", area)\n"
      ],
      "metadata": {
        "colab": {
          "base_uri": "https://localhost:8080/"
        },
        "id": "0z1piKXdVssV",
        "outputId": "3a7c4fa5-d0ea-4b32-bd94-ee67990ccff6"
      },
      "execution_count": 17,
      "outputs": [
        {
          "output_type": "stream",
          "name": "stdout",
          "text": [
            "Enter the length of the first side: 5\n",
            "Enter the length of the second side: 7\n",
            "Enter the length of the third side: 4\n",
            "The area of the triangle with sides is 9.797958971132712\n"
          ]
        }
      ]
    }
  ]
}