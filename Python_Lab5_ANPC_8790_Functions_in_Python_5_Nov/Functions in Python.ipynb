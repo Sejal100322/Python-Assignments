{
  "nbformat": 4,
  "nbformat_minor": 0,
  "metadata": {
    "colab": {
      "provenance": []
    },
    "kernelspec": {
      "name": "python3",
      "display_name": "Python 3"
    },
    "language_info": {
      "name": "python"
    }
  },
  "cells": [
    {
      "cell_type": "markdown",
      "source": [
        "##1- Write a function that calculates the area of a rectangle given its length and width"
      ],
      "metadata": {
        "id": "ELSgljd79xPO"
      }
    },
    {
      "cell_type": "code",
      "execution_count": null,
      "metadata": {
        "colab": {
          "base_uri": "https://localhost:8080/"
        },
        "id": "zuCMuxms9sIF",
        "outputId": "0b4b040e-7c50-47ae-95b8-c4d3007a03be"
      },
      "outputs": [
        {
          "output_type": "execute_result",
          "data": {
            "text/plain": [
              "560"
            ]
          },
          "metadata": {},
          "execution_count": 2
        }
      ],
      "source": [
        "def calculat(length,width):\n",
        "  rectangle=length * width\n",
        "  return rectangle\n",
        "calculat(14,40)"
      ]
    },
    {
      "cell_type": "markdown",
      "source": [
        "##2- Create a function that converts temperature from Celsius to Fahrenheit."
      ],
      "metadata": {
        "id": "vhV09YHI910a"
      }
    },
    {
      "cell_type": "code",
      "source": [
        "def temperature(Celsius):\n",
        "  Fahrenheit = (Celsius * 9/5) + 32.\n",
        "  return Fahrenheit\n",
        "\n",
        "temperature(12)"
      ],
      "metadata": {
        "colab": {
          "base_uri": "https://localhost:8080/"
        },
        "id": "MkFDWKs--eBk",
        "outputId": "c213f454-2130-4a01-9e28-df87190fd52a"
      },
      "execution_count": null,
      "outputs": [
        {
          "output_type": "execute_result",
          "data": {
            "text/plain": [
              "53.6"
            ]
          },
          "metadata": {},
          "execution_count": 4
        }
      ]
    },
    {
      "cell_type": "markdown",
      "source": [
        "##3- Write a function to find the factorial of a number.\n"
      ],
      "metadata": {
        "id": "0P2Jqas591v6"
      }
    },
    {
      "cell_type": "code",
      "source": [
        "def factorial(n):\n",
        "    if n == 0 or n == 1:\n",
        "        return 1\n",
        "    else:\n",
        "        return n * factorial(n - 1)\n",
        "\n",
        "number = 7\n",
        "print(f\"The factorial of {number} is {factorial(number)}\")"
      ],
      "metadata": {
        "colab": {
          "base_uri": "https://localhost:8080/"
        },
        "id": "iih1V_b6_BaL",
        "outputId": "cb6b118b-10d2-4af1-e7be-9ec693d0901d"
      },
      "execution_count": null,
      "outputs": [
        {
          "output_type": "stream",
          "name": "stdout",
          "text": [
            "The factorial of 7 is 5040\n"
          ]
        }
      ]
    },
    {
      "cell_type": "markdown",
      "source": [
        "##4- Design a function to check if a given number is prime."
      ],
      "metadata": {
        "id": "BgufIvB991qq"
      }
    },
    {
      "cell_type": "code",
      "source": [
        "def is_prime(n):\n",
        "\n",
        "    if n <= 1:\n",
        "        return False\n",
        "\n",
        "    if n <= 3:\n",
        "        return True\n",
        "\n",
        "    if n % 2 == 0 or n % 3 == 0:\n",
        "        return False\n",
        "\n",
        "    i = 5\n",
        "    while i * i <= n:\n",
        "        if n % i == 0 or n % (i + 2) == 0:\n",
        "            return False\n",
        "        i += 6\n",
        "    return True\n",
        "\n",
        "\n",
        "number = 25\n",
        "print(f\"Is {number} a prime number? {is_prime(number)}\")"
      ],
      "metadata": {
        "colab": {
          "base_uri": "https://localhost:8080/"
        },
        "id": "OPZ-DQEI-8y0",
        "outputId": "f4f241a7-522b-4bf1-a010-a6e34d53db36"
      },
      "execution_count": 2,
      "outputs": [
        {
          "output_type": "stream",
          "name": "stdout",
          "text": [
            "Is 25 a prime number? False\n"
          ]
        }
      ]
    },
    {
      "cell_type": "markdown",
      "source": [
        "##5- Create a function that reverses a given string."
      ],
      "metadata": {
        "id": "uNi6N2Jv91mM"
      }
    },
    {
      "cell_type": "code",
      "source": [
        "def reverse_string(s):\n",
        "    return s[::-1]\n",
        "\n",
        "\n",
        "input_string = \"Hello, World!\"\n",
        "reversed_string = reverse_string(input_string)\n",
        "print(f\"The reversed string is: {reversed_string}\")"
      ],
      "metadata": {
        "colab": {
          "base_uri": "https://localhost:8080/"
        },
        "id": "zuVacGWD-5X1",
        "outputId": "e72e20f9-b8a7-41fe-daa1-19310b1f8fee"
      },
      "execution_count": 3,
      "outputs": [
        {
          "output_type": "stream",
          "name": "stdout",
          "text": [
            "The reversed string is: !dlroW ,olleH\n"
          ]
        }
      ]
    },
    {
      "cell_type": "markdown",
      "source": [
        "##6- Write a function to compute the nth Fibonacci number."
      ],
      "metadata": {
        "id": "YUDR3L2b91h0"
      }
    },
    {
      "cell_type": "code",
      "source": [
        "def fibonacci_iterative(n):\n",
        "    if n <= 0:\n",
        "        return \"Input should be a positive integer\"\n",
        "    elif n == 1:\n",
        "        return 0\n",
        "    elif n == 2:\n",
        "        return 1\n",
        "\n",
        "    a, b = 0, 1\n",
        "    for i in range(2, n):\n",
        "        a, b = b, a + b\n",
        "    return b\n",
        "\n",
        "\n",
        "n = 10\n",
        "print(f\"The {n}th Fibonacci number is: {fibonacci_iterative(n)}\")"
      ],
      "metadata": {
        "colab": {
          "base_uri": "https://localhost:8080/"
        },
        "id": "tVgw3Wjd-1kV",
        "outputId": "5d7e6385-cc73-4369-8608-bab64cdee1df"
      },
      "execution_count": 4,
      "outputs": [
        {
          "output_type": "stream",
          "name": "stdout",
          "text": [
            "The 10th Fibonacci number is: 34\n"
          ]
        }
      ]
    },
    {
      "cell_type": "markdown",
      "source": [
        "##7- Create a function to find the largest element in a list."
      ],
      "metadata": {
        "id": "BDLz2Gia91d-"
      }
    },
    {
      "cell_type": "code",
      "source": [
        "def largest(list1):\n",
        "  return max(list1)\n",
        "\n",
        "list1=[2,4,3,55,6,5]\n",
        "largest(list1)"
      ],
      "metadata": {
        "colab": {
          "base_uri": "https://localhost:8080/"
        },
        "id": "5LDdLsKf-yqb",
        "outputId": "1fdd8a50-45df-4551-d7d4-e8b4e6ecc16c"
      },
      "execution_count": 5,
      "outputs": [
        {
          "output_type": "execute_result",
          "data": {
            "text/plain": [
              "55"
            ]
          },
          "metadata": {},
          "execution_count": 5
        }
      ]
    },
    {
      "cell_type": "markdown",
      "source": [
        "##8- Design a function to count the number of vowels in a string."
      ],
      "metadata": {
        "id": "GAgZqh7r91Wj"
      }
    },
    {
      "cell_type": "code",
      "source": [
        "def count_vowels(s):\n",
        "    vowels = \"aeiouAEIOU\"\n",
        "    count = 0\n",
        "    for char in s:\n",
        "        if char in vowels:\n",
        "            count += 1\n",
        "    return count\n",
        "\n",
        "input_string = \"Hello, World!\"\n",
        "vowel_count = count_vowels(input_string)\n",
        "print(f\"The number of vowels in the string is: {vowel_count}\")"
      ],
      "metadata": {
        "colab": {
          "base_uri": "https://localhost:8080/"
        },
        "id": "5Xt7GvJ9-uKb",
        "outputId": "9dfe3e5a-58cf-4f55-91ca-d2d57dd5a905"
      },
      "execution_count": 6,
      "outputs": [
        {
          "output_type": "stream",
          "name": "stdout",
          "text": [
            "The number of vowels in the string is: 3\n"
          ]
        }
      ]
    },
    {
      "cell_type": "markdown",
      "source": [
        "##9- Write a function to calculate the factorial of each number in a given list.\n"
      ],
      "metadata": {
        "id": "KGzqq-Sg91Ig"
      }
    },
    {
      "cell_type": "code",
      "source": [
        "import math\n",
        "\n",
        "def factorial_list(numbers):\n",
        "\n",
        "\n",
        "    for numm in numbers:\n",
        "      fact=0\n",
        "\n",
        "      fact+=1\n",
        "      return fact\n",
        "\n",
        "numbers_list = [3, 5, 7]\n",
        "factorial_values = factorial_list(numbers_list)\n",
        "print(f\"The factorials of the numbers in the list are: {factorial_values}\")\n"
      ],
      "metadata": {
        "colab": {
          "base_uri": "https://localhost:8080/"
        },
        "id": "ESjOpbyN-rDk",
        "outputId": "31ebba74-9204-462c-ec28-6676b6e798ee"
      },
      "execution_count": 7,
      "outputs": [
        {
          "output_type": "stream",
          "name": "stdout",
          "text": [
            "The factorials of the numbers in the list are: 1\n"
          ]
        }
      ]
    },
    {
      "cell_type": "markdown",
      "source": [
        "##10- Create a function to check if a string is a palindrome."
      ],
      "metadata": {
        "id": "P1hXmvDh-Vhs"
      }
    },
    {
      "cell_type": "code",
      "source": [
        "def is_palindrome(s):\n",
        "\n",
        "    return s == s[::-1]\n",
        "\n",
        "\n",
        "input_string = \"mmamm\"\n",
        "if is_palindrome(input_string):\n",
        "    print(f'\"{input_string}\" is a palindrome.')\n",
        "else:\n",
        "    print(f'\"{input_string}\" is not a palindrome.')"
      ],
      "metadata": {
        "colab": {
          "base_uri": "https://localhost:8080/"
        },
        "id": "4sLH4mAJ-lmb",
        "outputId": "6003515f-4611-4c4d-e5af-246e0856dfac"
      },
      "execution_count": 8,
      "outputs": [
        {
          "output_type": "stream",
          "name": "stdout",
          "text": [
            "\"mmamm\" is a palindrome.\n"
          ]
        }
      ]
    }
  ]
}