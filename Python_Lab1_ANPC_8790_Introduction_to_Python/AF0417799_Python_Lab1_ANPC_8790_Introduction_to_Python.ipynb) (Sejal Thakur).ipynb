{
  "nbformat": 4,
  "nbformat_minor": 0,
  "metadata": {
    "colab": {
      "provenance": []
    },
    "kernelspec": {
      "name": "python3",
      "display_name": "Python 3"
    },
    "language_info": {
      "name": "python"
    }
  },
  "cells": [
    {
      "cell_type": "markdown",
      "source": [
        "## Q1.\tWrite a Python program to take two numbers as input from the user and display their sum.\n"
      ],
      "metadata": {
        "id": "PCn30DxCi_0y"
      }
    },
    {
      "cell_type": "code",
      "execution_count": null,
      "metadata": {
        "colab": {
          "base_uri": "https://localhost:8080/"
        },
        "id": "f_bws16Si1B0",
        "outputId": "9c5f8e40-67b0-4208-e4a9-2ccb876262ce"
      },
      "outputs": [
        {
          "output_type": "stream",
          "name": "stdout",
          "text": [
            "Enter First Number = 25\n",
            "Enter Second Number = 30\n",
            "Addition of two numbers is = 55\n",
            "Addition of 25 and 30  is = 55\n"
          ]
        }
      ],
      "source": [
        "num1=int(input(\"Enter First Number = \"))\n",
        "num2=int(input(\"Enter Second Number = \"))\n",
        "sum=num1+num2\n",
        "print(\"Addition of two numbers is =\",sum)\n",
        "print(\"Addition of\",num1,\"and\",num2,\" is =\",sum)\n",
        "\n"
      ]
    },
    {
      "cell_type": "markdown",
      "source": [
        "##Q2.\tCalculate and print the midpoint of two numbers entered by the user.\n",
        "\n"
      ],
      "metadata": {
        "id": "pQyGzXsOkF3e"
      }
    },
    {
      "cell_type": "code",
      "source": [
        "num1=int(input(\"Enter First Number = \"))\n",
        "num2=int(input(\"Enter Second Number = \"))\n",
        "midpoint=(num1+num2)/2\n",
        "print(\"Midpoint of two numbers is =\",midpoint)\n",
        "print(\"Midpoint of\",num1,\"and\",num2,\" is =\",midpoint)\n",
        "\n"
      ],
      "metadata": {
        "colab": {
          "base_uri": "https://localhost:8080/"
        },
        "id": "Ovokm6QCkLy_",
        "outputId": "5c14f65f-3ad4-4fa0-b965-4d42e6e22f78"
      },
      "execution_count": null,
      "outputs": [
        {
          "output_type": "stream",
          "name": "stdout",
          "text": [
            "Enter First Number = 20\n",
            "Enter Second Number = 30\n",
            "Midpoint of two numbers is = 25.0\n",
            "Midpoint of 20 and 30  is = 25.0\n"
          ]
        }
      ]
    },
    {
      "cell_type": "markdown",
      "source": [
        "##Q3.\tWrite a Python program to calculate the area of a triangle using the formula: area = 0.5 * base * height.\n"
      ],
      "metadata": {
        "id": "ojkZ3KkSlHdV"
      }
    },
    {
      "cell_type": "code",
      "source": [
        "num1=int(input(\"Enter The measurement of the base of the triangle = \"))\n",
        "num2=int(input(\"Enter The measurement of the height of the triangle = \"))\n",
        "area=0.5*num1*num2\n",
        "print(\"Area of the triangle is =\",area)\n",
        "\n"
      ],
      "metadata": {
        "colab": {
          "base_uri": "https://localhost:8080/"
        },
        "id": "pnR-HZ6UlMXD",
        "outputId": "d7b61866-0b2e-4f63-dd3f-6c694e784c8e"
      },
      "execution_count": null,
      "outputs": [
        {
          "output_type": "stream",
          "name": "stdout",
          "text": [
            "Enter The measurement of the base of the triangle = 10\n",
            "Enter The measurement of the height of the triangle = 7\n",
            "Area of the triangle is = 35.0\n"
          ]
        }
      ]
    },
    {
      "cell_type": "markdown",
      "source": [
        "##Q4.\tTake three numbers as input from the user and display their product.\n"
      ],
      "metadata": {
        "id": "sy3tdNkkmY7r"
      }
    },
    {
      "cell_type": "markdown",
      "source": [],
      "metadata": {
        "id": "68fJvZIUlnqc"
      }
    },
    {
      "cell_type": "code",
      "source": [
        "num1=int(input(\"Enter First Number = \"))\n",
        "num2=int(input(\"Enter Second Number = \"))\n",
        "num3=int(input(\"Enter Third Number = \"))\n",
        "product=num1*num2*num3\n",
        "print(\"The Product of three number is =\",product)\n",
        "\n"
      ],
      "metadata": {
        "colab": {
          "base_uri": "https://localhost:8080/"
        },
        "id": "EHPv6mA_mepP",
        "outputId": "b52571ff-6c12-4ed0-c606-6cfa4dab07c7"
      },
      "execution_count": null,
      "outputs": [
        {
          "output_type": "stream",
          "name": "stdout",
          "text": [
            "Enter First Number = 2\n",
            "Enter Second Number = 3\n",
            "Enter Third Number = 4\n",
            "The Product of three number is = 24\n"
          ]
        }
      ]
    },
    {
      "cell_type": "markdown",
      "source": [
        "##Q5.\tTake a number as input and display its square and cube.\n"
      ],
      "metadata": {
        "id": "HMAeGNYKm6zr"
      }
    },
    {
      "cell_type": "code",
      "source": [
        "num1=int(input(\"Enter a Number = \"))\n",
        "square=num1 * num1\n",
        "cube=num1 * num1 * num1\n",
        "print(\"The Square of the number is =\",square)\n",
        "print(\"The Cube of the number is =\",cube)\n",
        "\n",
        "\n"
      ],
      "metadata": {
        "colab": {
          "base_uri": "https://localhost:8080/"
        },
        "id": "CUbv-3Snm_Ts",
        "outputId": "3b17ee4f-3612-47c9-c703-c6c304a03d89"
      },
      "execution_count": null,
      "outputs": [
        {
          "output_type": "stream",
          "name": "stdout",
          "text": [
            "Enter a Number = 5\n",
            "The Square of the number is = 25\n",
            "The Cube of the number is = 125\n"
          ]
        }
      ]
    },
    {
      "cell_type": "markdown",
      "source": [
        "##Q6.\tTake two numbers as input and display their quotient and remainder.\n"
      ],
      "metadata": {
        "id": "tYzFZYDmm_2P"
      }
    },
    {
      "cell_type": "code",
      "source": [
        "num1 = int(input(\"Enter the first number: \"))\n",
        "num2 = int(input(\"Enter the second number: \"))\n",
        "quotient = num1 // num2\n",
        "remainder = num1 % num2\n",
        "print(\"Quotient is:\", quotient)\n",
        "print(\"Remainder is:\", remainder)\n"
      ],
      "metadata": {
        "colab": {
          "base_uri": "https://localhost:8080/"
        },
        "id": "yXoCUlamnAKD",
        "outputId": "6be3fc10-ed83-440c-ecc1-ecd70cd3f2ea"
      },
      "execution_count": null,
      "outputs": [
        {
          "output_type": "stream",
          "name": "stdout",
          "text": [
            "Enter the first number: 5\n",
            "Enter the second number: 4\n",
            "Quotient is: 1\n",
            "Remainder is: 1\n"
          ]
        }
      ]
    },
    {
      "cell_type": "markdown",
      "source": [
        "##Q7.\tTake three numbers as input and display their average."
      ],
      "metadata": {
        "id": "1UClDi5InFYk"
      }
    },
    {
      "cell_type": "code",
      "source": [
        "num1 = int(input(\"Enter the first number: \"))\n",
        "num2 = int(input(\"Enter the second number: \"))\n",
        "num3 = int(input(\"Enter the third number: \"))\n",
        "average = (num1 + num2 + num3) / 3\n",
        "print(\"The average of the three numbers is:\", average)\n"
      ],
      "metadata": {
        "colab": {
          "base_uri": "https://localhost:8080/"
        },
        "id": "axYBB_iEnTl-",
        "outputId": "27d02b83-07bd-40e1-bd3c-6d62fd8c0256"
      },
      "execution_count": null,
      "outputs": [
        {
          "output_type": "stream",
          "name": "stdout",
          "text": [
            "Enter the first number: 2\n",
            "Enter the second number: 3\n",
            "Enter the third number: 4\n",
            "The average of the three numbers is: 3.0\n"
          ]
        }
      ]
    },
    {
      "cell_type": "markdown",
      "source": [],
      "metadata": {
        "id": "hsO2QfUnnFnN"
      }
    },
    {
      "cell_type": "markdown",
      "source": [
        "##Q8.\tWrite a Python program to calculate the area of a rectangle using the formula: area = length * width.\n"
      ],
      "metadata": {
        "id": "ulELGduEnVEw"
      }
    },
    {
      "cell_type": "code",
      "source": [
        "\n",
        "length = float(input(\"Enter the length of the rectangle: \"))\n",
        "width = float(input(\"Enter the width of the rectangle: \"))\n",
        "area = length * width\n",
        "print(\"The area of the rectangle is:\", area)\n"
      ],
      "metadata": {
        "colab": {
          "base_uri": "https://localhost:8080/"
        },
        "id": "p3ICuGPVnYbz",
        "outputId": "4fb8a734-17a2-4c3b-ce69-efc3621e2098"
      },
      "execution_count": null,
      "outputs": [
        {
          "output_type": "stream",
          "name": "stdout",
          "text": [
            "Enter the length of the rectangle: 5\n",
            "Enter the width of the rectangle: 8\n",
            "The area of the rectangle is: 40.0\n"
          ]
        }
      ]
    },
    {
      "cell_type": "markdown",
      "source": [
        "##Q9.\tTake five numbers as input representing marks obtained and total marks.\n",
        "Display the percentage."
      ],
      "metadata": {
        "id": "f5l2EGPJnZUE"
      }
    },
    {
      "cell_type": "code",
      "source": [
        "english = float(input(\"Enter marks obtained in English : \"))\n",
        "math = float(input(\"Enter marks obtained in Math : \"))\n",
        "science = float(input(\"Enter marks obtained in Science: \"))\n",
        "sst = float(input(\"Enter marks obtained in Social Studies: \"))\n",
        "hindi = float(input(\"Enter marks obtained in Hindi: \"))\n",
        "total_marks = english + math + science + sst + hindi\n",
        "average_percentage = (total_marks / 500) * 100\n",
        "print(\"The average percentage is:\", average_percentage)\n"
      ],
      "metadata": {
        "colab": {
          "base_uri": "https://localhost:8080/"
        },
        "id": "6RnDWhJDnbF0",
        "outputId": "de89f753-8c6c-45bc-b965-46b2935ec06a"
      },
      "execution_count": null,
      "outputs": [
        {
          "output_type": "stream",
          "name": "stdout",
          "text": [
            "Enter marks obtained in English : 40\n",
            "Enter marks obtained in Math : 50\n",
            "Enter marks obtained in Science: 70\n",
            "Enter marks obtained in Social Studies: 66\n",
            "Enter marks obtained in Hindi: 50.8\n",
            "The average percentage is: 55.36\n"
          ]
        }
      ]
    },
    {
      "cell_type": "markdown",
      "source": [
        "#Q.10 print helloworld\n"
      ],
      "metadata": {
        "id": "ZRierDorBSxY"
      }
    },
    {
      "cell_type": "code",
      "source": [
        "print(\"helloworld\")\n",
        "\n"
      ],
      "metadata": {
        "colab": {
          "base_uri": "https://localhost:8080/"
        },
        "id": "eclKlffSEhxu",
        "outputId": "4887a74d-be3a-4814-bb00-162d6e09a554"
      },
      "execution_count": 1,
      "outputs": [
        {
          "output_type": "stream",
          "name": "stdout",
          "text": [
            "helloworld\n"
          ]
        }
      ]
    },
    {
      "cell_type": "markdown",
      "source": [
        "#Q.11 describe local variable and global variable code\n"
      ],
      "metadata": {
        "id": "maorWDOxBmbq"
      }
    },
    {
      "cell_type": "code",
      "source": [
        "# Global variable\n",
        "x = 10\n",
        "\n",
        "def my_function():\n",
        "    # Local variable\n",
        "    y = 5\n",
        "    print(\"Local variable y:\", y)\n",
        "    print(\"Global variable x inside function:\", x)\n",
        "\n",
        "# Calling the function\n",
        "my_function()\n",
        "\n",
        "print(\"Global variable x outside function:\", x)\n"
      ],
      "metadata": {
        "colab": {
          "base_uri": "https://localhost:8080/"
        },
        "id": "BnheOddiFX-R",
        "outputId": "742e9fee-4e20-4072-98cd-2625c0d08541"
      },
      "execution_count": 8,
      "outputs": [
        {
          "output_type": "stream",
          "name": "stdout",
          "text": [
            "Local variable y: 5\n",
            "Global variable x inside function: 10\n",
            "Global variable x outside function: 10\n"
          ]
        }
      ]
    },
    {
      "cell_type": "markdown",
      "source": [
        "#Q.12 Write a code that describe Indentation error\n"
      ],
      "metadata": {
        "id": "5bcd6v_1CeR2"
      }
    },
    {
      "cell_type": "code",
      "source": [
        "# Example of IndentationError\n",
        "x = 10\n",
        "if x > 5:\n",
        "print(\"x is greater than 5\")\n",
        "    print(\"This line is indented incorrectly\")\n"
      ],
      "metadata": {
        "colab": {
          "base_uri": "https://localhost:8080/",
          "height": 106
        },
        "id": "cZos155TGeRf",
        "outputId": "ce147216-f200-4edb-a3e9-6c3a66cb6e87"
      },
      "execution_count": 5,
      "outputs": [
        {
          "output_type": "error",
          "ename": "IndentationError",
          "evalue": "expected an indented block after 'if' statement on line 3 (<ipython-input-5-3fb961061481>, line 4)",
          "traceback": [
            "\u001b[0;36m  File \u001b[0;32m\"<ipython-input-5-3fb961061481>\"\u001b[0;36m, line \u001b[0;32m4\u001b[0m\n\u001b[0;31m    print(\"x is greater than 5\")\u001b[0m\n\u001b[0m    ^\u001b[0m\n\u001b[0;31mIndentationError\u001b[0m\u001b[0;31m:\u001b[0m expected an indented block after 'if' statement on line 3\n"
          ]
        }
      ]
    },
    {
      "cell_type": "markdown",
      "source": [
        "#Q.13 write a code that describe local and global variable with same name"
      ],
      "metadata": {
        "id": "Y661nlTCDQ0h"
      }
    },
    {
      "cell_type": "code",
      "source": [
        "# Global variable\n",
        "x = 50\n",
        "\n",
        "def my_function():\n",
        "    # Local variable with the same name\n",
        "    x = 10\n",
        "    print(\"Local variable x inside function:\", x)  # Refers to the local variable\n",
        "\n",
        "# Calling the function\n",
        "my_function()\n",
        "\n",
        "print(\"Global variable x outside function:\", x)  # Refers to the global variable\n",
        "\n"
      ],
      "metadata": {
        "colab": {
          "base_uri": "https://localhost:8080/"
        },
        "id": "brxfA90AHKhm",
        "outputId": "42517747-4ee3-4a8f-82be-ba1e35c9eb4c"
      },
      "execution_count": 9,
      "outputs": [
        {
          "output_type": "stream",
          "name": "stdout",
          "text": [
            "Local variable x inside function: 10\n",
            "Global variable x outside function: 50\n"
          ]
        }
      ]
    },
    {
      "cell_type": "markdown",
      "source": [
        "#Q.14 Write a code for string, int and float input."
      ],
      "metadata": {
        "id": "x1RmDjb5EUE0"
      }
    },
    {
      "cell_type": "code",
      "source": [
        "user_string = input(\"Enter a string: \")\n",
        "user_int = int(input(\"Enter an integer: \"))\n",
        "user_float = float(input(\"Enter a float: \"))\n",
        "\n",
        "print(\"String entered by user :\", user_string)\n",
        "print(\"Integer entered by user :\", user_int)\n",
        "print(\"Float entered by user :\", user_float)\n"
      ],
      "metadata": {
        "colab": {
          "base_uri": "https://localhost:8080/"
        },
        "id": "FfQMX7S5H894",
        "outputId": "6615f27d-a86f-436e-b282-b188ec1a95a7"
      },
      "execution_count": 7,
      "outputs": [
        {
          "output_type": "stream",
          "name": "stdout",
          "text": [
            "Enter a string: Sejal Thakur\n",
            "Enter an integer: 22\n",
            "Enter a float: 345.765\n",
            "String entered by user : Sejal Thakur\n",
            "Integer entered by user : 22\n",
            "Float entered by user : 345.765\n"
          ]
        }
      ]
    }
  ]
}