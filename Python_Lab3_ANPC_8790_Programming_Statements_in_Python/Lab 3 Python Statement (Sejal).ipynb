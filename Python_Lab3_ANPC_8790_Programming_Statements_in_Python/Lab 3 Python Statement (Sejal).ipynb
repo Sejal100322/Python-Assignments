{
  "nbformat": 4,
  "nbformat_minor": 0,
  "metadata": {
    "colab": {
      "provenance": []
    },
    "kernelspec": {
      "name": "python3",
      "display_name": "Python 3"
    },
    "language_info": {
      "name": "python"
    }
  },
  "cells": [
    {
      "cell_type": "markdown",
      "source": [
        "# 1. Using input() function take one number from the user and using ternary operators check whether the number is even or odd.\n",
        "\n"
      ],
      "metadata": {
        "id": "k1zQI0oaVGyN"
      }
    },
    {
      "cell_type": "code",
      "execution_count": 2,
      "metadata": {
        "colab": {
          "base_uri": "https://localhost:8080/"
        },
        "id": "48g7pVR2VBPB",
        "outputId": "8d547d0c-2c21-4626-b366-f41dca892646"
      },
      "outputs": [
        {
          "output_type": "stream",
          "name": "stdout",
          "text": [
            "Enter a number: 8\n",
            "The number 8 is Even.\n"
          ]
        }
      ],
      "source": [
        "number = int(input(\"Enter a number: \"))\n",
        "result = \"Even\" if number % 2 == 0 else \"Odd\"\n",
        "print(\"The number\", number, \"is\", result + \".\")\n",
        "\n"
      ]
    },
    {
      "cell_type": "markdown",
      "source": [
        "# 2. Using input function take two numbers and then swap the numbers.\n"
      ],
      "metadata": {
        "id": "TiYG_wt1VH0X"
      }
    },
    {
      "cell_type": "code",
      "source": [
        "num1 = input(\"Enter the first number: \")\n",
        "num2 = input(\"Enter the second number: \")\n",
        "print(\"Before swapping: num1 =\", num1, \", num2 =\", num2)\n",
        "num1, num2 = num2, num1\n",
        "print(\"After swapping: num1 =\", num1, \", num2 =\", num2)\n"
      ],
      "metadata": {
        "colab": {
          "base_uri": "https://localhost:8080/"
        },
        "id": "c_DkOyrnVIOn",
        "outputId": "a905dde9-87e8-4f47-a0a1-4da8de337c57"
      },
      "execution_count": 3,
      "outputs": [
        {
          "output_type": "stream",
          "name": "stdout",
          "text": [
            "Enter the first number: 58\n",
            "Enter the second number: 92\n",
            "Before swapping: num1 = 58 , num2 = 92\n",
            "After swapping: num1 = 92 , num2 = 58\n"
          ]
        }
      ]
    },
    {
      "cell_type": "markdown",
      "source": [
        "# 3. Write a Program to Convert Kilometers to Miles.\n"
      ],
      "metadata": {
        "id": "l3aC7H-UVIhm"
      }
    },
    {
      "cell_type": "code",
      "source": [
        "kilometers = float(input(\"Enter value in kilometers: \"))\n",
        "conversion_factor = 0.621371\n",
        "\n",
        "miles = kilometers * conversion_factor\n",
        "\n",
        "print(kilometers, \"kilometers is equal to\", miles, \"miles.\")\n"
      ],
      "metadata": {
        "colab": {
          "base_uri": "https://localhost:8080/"
        },
        "id": "415VFZNXVJCg",
        "outputId": "89e58e77-6fc5-4e62-89f4-28116dd1fdb5"
      },
      "execution_count": 4,
      "outputs": [
        {
          "output_type": "stream",
          "name": "stdout",
          "text": [
            "Enter value in kilometers: 12\n",
            "12.0 kilometers is equal to 7.4564520000000005 miles.\n"
          ]
        }
      ]
    },
    {
      "cell_type": "markdown",
      "source": [
        "# 4. Find the Simple Interest on Rs. 200 for 5 years at 5% per year.\n"
      ],
      "metadata": {
        "id": "C6ijIHfmVJW8"
      }
    },
    {
      "cell_type": "code",
      "source": [
        "principal = 200\n",
        "time = 5\n",
        "rate = 5\n",
        "simple_interest = (principal * time * rate) / 100\n",
        "print(\"The Simple Interest is:\", simple_interest)\n"
      ],
      "metadata": {
        "colab": {
          "base_uri": "https://localhost:8080/"
        },
        "id": "r0lJKxhSVJsl",
        "outputId": "cf7391b5-62d1-40e0-c30d-cc92cf416b0f"
      },
      "execution_count": null,
      "outputs": [
        {
          "output_type": "stream",
          "name": "stdout",
          "text": [
            "The Simple Interest is: 50.0\n"
          ]
        }
      ]
    },
    {
      "cell_type": "markdown",
      "source": [
        "# 5. Calculate the area of a circle.\n",
        "# Formula: Area of Circle = πr^2\n"
      ],
      "metadata": {
        "id": "8lcbMqSSVLlr"
      }
    },
    {
      "cell_type": "code",
      "source": [
        "radius = float(input(\"Enter the radius of the circle: \"))\n",
        "pi = 3.14159\n",
        "area = pi * (radius ** 2)\n",
        "print(\"The area of the circle with radius\", radius, \"is\", area)\n"
      ],
      "metadata": {
        "colab": {
          "base_uri": "https://localhost:8080/"
        },
        "id": "uZq05D7VVMAR",
        "outputId": "8f9402ab-8424-49e7-c805-b75be2ae3dd1"
      },
      "execution_count": 5,
      "outputs": [
        {
          "output_type": "stream",
          "name": "stdout",
          "text": [
            "Enter the radius of the circle: 12\n",
            "The area of the circle with radius 12.0 is 452.38896\n"
          ]
        }
      ]
    },
    {
      "cell_type": "markdown",
      "source": [
        "# 6. Calculate the area of a triangle.\n",
        "# Formula: Area of Triangle = (1/2) × Base × Height\n"
      ],
      "metadata": {
        "id": "zCmi9odVVMWR"
      }
    },
    {
      "cell_type": "code",
      "source": [
        "base = float(input(\"Enter the base of the triangle: \"))\n",
        "height = float(input(\"Enter the height of the triangle: \"))\n",
        "\n",
        "area = 0.5 * base * height\n",
        "\n",
        "print(\"The area of the triangle is\", area)\n"
      ],
      "metadata": {
        "colab": {
          "base_uri": "https://localhost:8080/"
        },
        "id": "HPzB8qzIVMsK",
        "outputId": "ff69c890-d960-49d2-d8ad-76da586d82f9"
      },
      "execution_count": 6,
      "outputs": [
        {
          "output_type": "stream",
          "name": "stdout",
          "text": [
            "Enter the base of the triangle: 12\n",
            "Enter the height of the triangle: 9\n",
            "The area of the triangle is 54.0\n"
          ]
        }
      ]
    },
    {
      "cell_type": "markdown",
      "source": [
        "# 7. Calculate the area of a rectangle.\n",
        "# Formula: Area of Rectangle = Length × Width\n"
      ],
      "metadata": {
        "id": "aYXEkDEEVNBU"
      }
    },
    {
      "cell_type": "code",
      "source": [
        "length = float(input(\"Enter the length of the rectangle: \"))\n",
        "width = float(input(\"Enter the width of the rectangle: \"))\n",
        "\n",
        "area = length * width\n",
        "\n",
        "print(\"The area of the rectangle is\", area)\n"
      ],
      "metadata": {
        "colab": {
          "base_uri": "https://localhost:8080/"
        },
        "id": "O52wf6PPVNX7",
        "outputId": "0a117698-7acd-4cf4-c9a2-57859b1b17bc"
      },
      "execution_count": 7,
      "outputs": [
        {
          "output_type": "stream",
          "name": "stdout",
          "text": [
            "Enter the length of the rectangle: 18\n",
            "Enter the width of the rectangle: 6\n",
            "The area of the rectangle is 108.0\n"
          ]
        }
      ]
    },
    {
      "cell_type": "markdown",
      "source": [
        "# 8. Calculate the area of a square.\n",
        "# Formula: Area of Square = Side^2\n"
      ],
      "metadata": {
        "id": "0RR_1_xGVmRT"
      }
    },
    {
      "cell_type": "code",
      "source": [
        "side = float(input(\"Enter the side length of the square: \"))\n",
        "area = side ** 2\n",
        "\n",
        "print(\"The area of the square is\", area)\n"
      ],
      "metadata": {
        "colab": {
          "base_uri": "https://localhost:8080/"
        },
        "id": "RTJoE4JpVmqP",
        "outputId": "123a0f74-48e5-4227-b81a-0bdd9a6754a4"
      },
      "execution_count": 8,
      "outputs": [
        {
          "output_type": "stream",
          "name": "stdout",
          "text": [
            "Enter the side length of the square: 30\n",
            "The area of the square is 900.0\n"
          ]
        }
      ]
    },
    {
      "cell_type": "markdown",
      "source": [
        "# 9. Calculate the multiplication and sum of two numbers.\n"
      ],
      "metadata": {
        "id": "Dks3o0tTVp7V"
      }
    },
    {
      "cell_type": "code",
      "source": [
        "num1 = float(input(\"Enter the first number: \"))\n",
        "num2 = float(input(\"Enter the second number: \"))\n",
        "\n",
        "sum_result = num1 + num2\n",
        "\n",
        "multiply = num1 * num2\n",
        "\n",
        "print(\"The sum of is\", sum_result)\n",
        "print(\"The multiplication of the two numbers is\", multiply)\n"
      ],
      "metadata": {
        "colab": {
          "base_uri": "https://localhost:8080/"
        },
        "id": "Mn7aocl-VqVe",
        "outputId": "6db68450-805c-46d2-d2d2-80c38bf1acb0"
      },
      "execution_count": 9,
      "outputs": [
        {
          "output_type": "stream",
          "name": "stdout",
          "text": [
            "Enter the first number: 73\n",
            "Enter the second number: 59\n",
            "The sum of is 132.0\n",
            "The multiplication of the two numbers is 4307.0\n"
          ]
        }
      ]
    },
    {
      "cell_type": "markdown",
      "source": [
        "# 10. Declare two variables and print which variable is largest.\n"
      ],
      "metadata": {
        "id": "g5RwJDDTVqvS"
      }
    },
    {
      "cell_type": "code",
      "source": [
        "a = float(input(\"Enter the first number: \"))\n",
        "b = float(input(\"Enter the second number: \"))\n",
        "if a > b:\n",
        "    print(\"The largest number is\", a)\n",
        "elif b > a:\n",
        "    print(\"The largest number is\", b)\n",
        "else:\n",
        "    print(\"Both numbers are equal\")\n"
      ],
      "metadata": {
        "colab": {
          "base_uri": "https://localhost:8080/"
        },
        "id": "JdP39755VrEH",
        "outputId": "46fdf2ab-719f-4259-dc5c-1b82ab9e8699"
      },
      "execution_count": 10,
      "outputs": [
        {
          "output_type": "stream",
          "name": "stdout",
          "text": [
            "Enter the first number: 7\n",
            "Enter the second number: 9\n",
            "The largest number is 9.0\n"
          ]
        }
      ]
    },
    {
      "cell_type": "markdown",
      "source": [
        "# 11. Python program to convert the temperature in degree centigrade to Fahrenheit.\n"
      ],
      "metadata": {
        "id": "xnwUMLffVraA"
      }
    },
    {
      "cell_type": "code",
      "source": [
        "celsius = float(input(\"Enter temperature in Celsius: \"))\n",
        "\n",
        "fahrenheit = (celsius * 9/5) + 32\n",
        "\n",
        "print(celsius, \"degrees Celsius is equal to\", fahrenheit, \"degrees Fahrenheit.\")\n"
      ],
      "metadata": {
        "colab": {
          "base_uri": "https://localhost:8080/"
        },
        "id": "zairhFudVrwd",
        "outputId": "b0fe7c27-5a09-449b-ea50-9707f48d21e9"
      },
      "execution_count": 11,
      "outputs": [
        {
          "output_type": "stream",
          "name": "stdout",
          "text": [
            "Enter temperature in Celsius: 40\n",
            "40.0 degrees Celsius is equal to 104.0 degrees Fahrenheit.\n"
          ]
        }
      ]
    },
    {
      "cell_type": "markdown",
      "source": [
        "# 12. Python program to find the area of a triangle whose sides are given."
      ],
      "metadata": {
        "id": "tsua3qErVsXG"
      }
    },
    {
      "cell_type": "code",
      "source": [
        "a = float(input(\"Enter the length of the first side: \"))\n",
        "b = float(input(\"Enter the length of the second side: \"))\n",
        "c = float(input(\"Enter the length of the third side: \"))\n",
        "\n",
        "s = (a + b + c) / 2\n",
        "\n",
        "area = (s * (s - a) * (s - b) * (s - c)) ** 0.5\n",
        "\n",
        "print(\"The area of the triangle with sides is\", area)\n"
      ],
      "metadata": {
        "colab": {
          "base_uri": "https://localhost:8080/"
        },
        "id": "0z1piKXdVssV",
        "outputId": "42d985bd-7015-4c1a-b49c-65c9684091a6"
      },
      "execution_count": 12,
      "outputs": [
        {
          "output_type": "stream",
          "name": "stdout",
          "text": [
            "Enter the length of the first side: 8\n",
            "Enter the length of the second side: 9\n",
            "Enter the length of the third side: 5\n",
            "The area of the triangle with sides is 19.8997487421324\n"
          ]
        }
      ]
    }
  ]
}