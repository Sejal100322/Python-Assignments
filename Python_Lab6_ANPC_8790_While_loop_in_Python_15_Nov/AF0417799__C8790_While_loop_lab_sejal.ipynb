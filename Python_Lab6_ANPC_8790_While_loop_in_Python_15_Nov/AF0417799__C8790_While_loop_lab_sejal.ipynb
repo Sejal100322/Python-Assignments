{
  "nbformat": 4,
  "nbformat_minor": 0,
  "metadata": {
    "colab": {
      "provenance": []
    },
    "kernelspec": {
      "name": "python3",
      "display_name": "Python 3"
    },
    "language_info": {
      "name": "python"
    }
  },
  "cells": [
    {
      "cell_type": "markdown",
      "source": [
        "#Q1: Write a Python program to print numbers from 1 to 5 using a while loop. Output: 1 2 3 4 5"
      ],
      "metadata": {
        "id": "--rgIwq4CaKR"
      }
    },
    {
      "cell_type": "code",
      "source": [
        "num = 1\n",
        "\n",
        "while num <= 5:\n",
        "    print(num, end=' ')\n",
        "    num += 1"
      ],
      "metadata": {
        "colab": {
          "base_uri": "https://localhost:8080/"
        },
        "id": "xlUwijb0CZrh",
        "outputId": "534b162e-f494-48c2-b57f-71c28b13e0bd"
      },
      "execution_count": 1,
      "outputs": [
        {
          "output_type": "stream",
          "name": "stdout",
          "text": [
            "1 2 3 4 5 "
          ]
        }
      ]
    },
    {
      "cell_type": "markdown",
      "source": [
        "#Q2: Write a Python program to print the first 10 even numbers using a while loop. Output: 2 4 6 8 10 12 14 16 18 20"
      ],
      "metadata": {
        "id": "AtYFbTxODip5"
      }
    },
    {
      "cell_type": "code",
      "source": [
        "count = 1\n",
        "even_number = 2\n",
        "\n",
        "while count <= 10:\n",
        "    print(even_number, end=' ')\n",
        "    even_number += 2\n",
        "    count += 1"
      ],
      "metadata": {
        "colab": {
          "base_uri": "https://localhost:8080/"
        },
        "id": "D1FplpjcCWTu",
        "outputId": "e30196bd-b55f-4a36-b797-39d2e2abc580"
      },
      "execution_count": 2,
      "outputs": [
        {
          "output_type": "stream",
          "name": "stdout",
          "text": [
            "2 4 6 8 10 12 14 16 18 20 "
          ]
        }
      ]
    },
    {
      "cell_type": "markdown",
      "source": [
        "#Q3: Write a Python program to print the first 5 odd numbers using a while loop. Output: 1 3 5 7 9"
      ],
      "metadata": {
        "id": "_9uoZfHLD4iT"
      }
    },
    {
      "cell_type": "code",
      "execution_count": 3,
      "metadata": {
        "colab": {
          "base_uri": "https://localhost:8080/"
        },
        "id": "27ElqK-0CJgL",
        "outputId": "22aeeec2-8ea4-42bb-8e6a-f20c00820575"
      },
      "outputs": [
        {
          "output_type": "stream",
          "name": "stdout",
          "text": [
            "1 3 5 7 9 "
          ]
        }
      ],
      "source": [
        "count = 1\n",
        "odd_number = 1\n",
        "\n",
        "while count <= 5:\n",
        "    print(odd_number, end=' ')\n",
        "    odd_number += 2\n",
        "    count += 1"
      ]
    },
    {
      "cell_type": "markdown",
      "source": [
        "#Q4: Write a Python program to print the multiplication table of 3 using a while loop (from 3x1 to 3x10). Output: 3 × 1 = 3 3 × 2 = 6 3 × 3 = 9 ... 3 × 10 = 30"
      ],
      "metadata": {
        "id": "l1DlXOjeF3G1"
      }
    },
    {
      "cell_type": "code",
      "source": [
        "i = 1\n",
        "while i <= 10:\n",
        "    result = 3 * i\n",
        "    print(f\"3 × {i} = {result}\")\n",
        "    i +=1"
      ],
      "metadata": {
        "colab": {
          "base_uri": "https://localhost:8080/"
        },
        "id": "-hExIObSF4n6",
        "outputId": "c5b6e36f-b728-4a75-d5c1-0f44ea13c1e3"
      },
      "execution_count": 4,
      "outputs": [
        {
          "output_type": "stream",
          "name": "stdout",
          "text": [
            "3 × 1 = 3\n",
            "3 × 2 = 6\n",
            "3 × 3 = 9\n",
            "3 × 4 = 12\n",
            "3 × 5 = 15\n",
            "3 × 6 = 18\n",
            "3 × 7 = 21\n",
            "3 × 8 = 24\n",
            "3 × 9 = 27\n",
            "3 × 10 = 30\n"
          ]
        }
      ]
    },
    {
      "cell_type": "markdown",
      "source": [
        "#Q5: Write a Python program to print numbers from 10 down to 1 using a while loop. Output: 10 9 8 7 ... 1"
      ],
      "metadata": {
        "id": "thCK58W2GWV3"
      }
    },
    {
      "cell_type": "code",
      "source": [
        "number = 10\n",
        "\n",
        "while number >= 1:\n",
        "    print(number, end=' ')\n",
        "    number -= 1"
      ],
      "metadata": {
        "colab": {
          "base_uri": "https://localhost:8080/"
        },
        "id": "FuJK2ZUdGZ_9",
        "outputId": "a3ece690-31c8-45c6-b8f6-9f7642d949c6"
      },
      "execution_count": 5,
      "outputs": [
        {
          "output_type": "stream",
          "name": "stdout",
          "text": [
            "10 9 8 7 6 5 4 3 2 1 "
          ]
        }
      ]
    },
    {
      "cell_type": "markdown",
      "source": [
        "#Q6: Write a Python program to calculate the sum of numbers from 1 to 10 using a while loop. Output: Sum = 55"
      ],
      "metadata": {
        "id": "D5-EuhjdHHCo"
      }
    },
    {
      "cell_type": "code",
      "source": [
        "sum_of_numbers = 0\n",
        "i = 1\n",
        "\n",
        "while i <= 10:\n",
        "    sum_of_numbers += i\n",
        "    i += 1\n",
        "\n",
        "print(f\"Sum = {sum_of_numbers}\")"
      ],
      "metadata": {
        "colab": {
          "base_uri": "https://localhost:8080/"
        },
        "id": "wCTkfNf_HIZy",
        "outputId": "3316dabc-1a27-4534-a9a8-75a8645bb08f"
      },
      "execution_count": 6,
      "outputs": [
        {
          "output_type": "stream",
          "name": "stdout",
          "text": [
            "Sum = 55\n"
          ]
        }
      ]
    },
    {
      "cell_type": "markdown",
      "source": [
        "#Q7: Write a Python program to print all numbers from 1 to 50 that are divisible by 5 using a while loop. Output: 5 10 15 ... 50"
      ],
      "metadata": {
        "id": "E9zip69bHfY1"
      }
    },
    {
      "cell_type": "code",
      "source": [
        "i = 1\n",
        "\n",
        "while i <= 50:\n",
        "\n",
        "    if i % 5 == 0:\n",
        "        print(i, end=' ')\n",
        "    i += 1"
      ],
      "metadata": {
        "colab": {
          "base_uri": "https://localhost:8080/"
        },
        "id": "KYSR08HGHgyI",
        "outputId": "0b1d85ec-f568-4f53-f8c3-6ced9b83984d"
      },
      "execution_count": 7,
      "outputs": [
        {
          "output_type": "stream",
          "name": "stdout",
          "text": [
            "5 10 15 20 25 30 35 40 45 50 "
          ]
        }
      ]
    },
    {
      "cell_type": "markdown",
      "source": [
        "#Q8: Write a Python program to print numbers between 1 and 20 that are multiples of 3 using a while loop. Output: 3 6 9 12 15 18"
      ],
      "metadata": {
        "id": "pIYdMMYVHtiO"
      }
    },
    {
      "cell_type": "code",
      "source": [
        "i = 1\n",
        "\n",
        "while i <= 20:\n",
        "\n",
        "    if i % 3 == 0:\n",
        "        print(i, end=' ')\n",
        "    i += 1"
      ],
      "metadata": {
        "colab": {
          "base_uri": "https://localhost:8080/"
        },
        "id": "91poDjYNHy24",
        "outputId": "8e94c449-6910-4413-b15d-98fca4ff6a57"
      },
      "execution_count": 8,
      "outputs": [
        {
          "output_type": "stream",
          "name": "stdout",
          "text": [
            "3 6 9 12 15 18 "
          ]
        }
      ]
    },
    {
      "cell_type": "markdown",
      "source": [
        "#Q9: Write a Python program to find the factorial of a number using a while loop. Example: Input: 5 Output: 120 (because 5 × 4 × 3 × 2 × 1 = 120)"
      ],
      "metadata": {
        "id": "J70Wb2JRI4dN"
      }
    },
    {
      "cell_type": "code",
      "source": [
        "number = int(input(\"Input a number: \"))\n",
        "\n",
        "result = 1\n",
        "i = number\n",
        "\n",
        "while i > 0:\n",
        "    result *= i\n",
        "    i -= 1\n",
        "\n",
        "print(\"Output:\", result)"
      ],
      "metadata": {
        "id": "0HYNEh7jI7-k",
        "colab": {
          "base_uri": "https://localhost:8080/"
        },
        "outputId": "8919b46c-b213-465d-bbc6-f174630f2330"
      },
      "execution_count": 9,
      "outputs": [
        {
          "output_type": "stream",
          "name": "stdout",
          "text": [
            "Input a number: 4\n",
            "Output: 24\n"
          ]
        }
      ]
    },
    {
      "cell_type": "markdown",
      "source": [
        "#Q10: Write a Python program to calculate the sum of digits of a number using a while loop. Example: Input: 123 Output: 6 (because 1 + 2 + 3 = 6)"
      ],
      "metadata": {
        "id": "IMOs4tjt7EK2"
      }
    },
    {
      "cell_type": "code",
      "source": [
        "num = int(input(\"Enter a number: \"))\n",
        "sum_of_digits = 0\n",
        "\n",
        "while num > 0:\n",
        "    digit = num % 10\n",
        "    sum_of_digits += digit\n",
        "    num = num // 10\n",
        "\n",
        "print(\"The sum of digits is:\", sum_of_digits)\n"
      ],
      "metadata": {
        "colab": {
          "base_uri": "https://localhost:8080/"
        },
        "id": "zDDgcJo47F7W",
        "outputId": "5a0cbdc6-53b4-47db-ef8f-1fab35ed00b8"
      },
      "execution_count": 12,
      "outputs": [
        {
          "output_type": "stream",
          "name": "stdout",
          "text": [
            "Enter a number: 63975\n",
            "The sum of digits is: 30\n"
          ]
        }
      ]
    },
    {
      "cell_type": "markdown",
      "source": [
        "#Q11: Write a Python program to print the sum of all even numbers between 1 and 100 using a while loop. Output: Sum of even numbers = 2550"
      ],
      "metadata": {
        "id": "idMR-iRG7XqI"
      }
    },
    {
      "cell_type": "code",
      "execution_count": 11,
      "metadata": {
        "colab": {
          "base_uri": "https://localhost:8080/"
        },
        "id": "IIdvYt9S6am3",
        "outputId": "c27b02dc-8d29-43dc-f89c-238fe44effc6"
      },
      "outputs": [
        {
          "output_type": "stream",
          "name": "stdout",
          "text": [
            "Sum of even numbers = 2550\n"
          ]
        }
      ],
      "source": [
        "sum_of_evens = 0\n",
        "num = 1\n",
        "\n",
        "while num <= 100:\n",
        "    if num % 2 == 0:\n",
        "        sum_of_evens += num\n",
        "    num += 1\n",
        "\n",
        "print(\"Sum of even numbers =\", sum_of_evens)\n"
      ]
    },
    {
      "cell_type": "markdown",
      "source": [
        "#Q12: Write a Python program to reverse a number using a while loop. Example: Input: 1234 Output: 4321"
      ],
      "metadata": {
        "id": "NBHKKeoM70Cz"
      }
    },
    {
      "cell_type": "code",
      "source": [
        "num = int(input(\"Enter a number: \"))\n",
        "reversed_num = 0\n",
        "\n",
        "while num > 0:\n",
        "    digit = num % 10\n",
        "    reversed_num = reversed_num * 10 + digit\n",
        "    num = num // 10\n",
        "\n",
        "print(\"Reversed number is:\", reversed_num)\n",
        "\n"
      ],
      "metadata": {
        "colab": {
          "base_uri": "https://localhost:8080/"
        },
        "id": "8Pqp00CM72wn",
        "outputId": "50cb2167-afd0-42e0-f380-37221e429d15"
      },
      "execution_count": 13,
      "outputs": [
        {
          "output_type": "stream",
          "name": "stdout",
          "text": [
            "Enter a number: 5468900\n",
            "Reversed number is: 98645\n"
          ]
        }
      ]
    },
    {
      "cell_type": "markdown",
      "source": [
        "#Q13: Write a Python program to find the sum of digits of a given number using a while loop. Example: Input: 567 Output: 18 (5 + 6 + 7 = 18)"
      ],
      "metadata": {
        "id": "HdwDiVTZ8T2M"
      }
    },
    {
      "cell_type": "code",
      "source": [
        "num = int(input(\"Enter a number: \"))\n",
        "sum_of_digits = 0\n",
        "\n",
        "while num > 0:\n",
        "    digit = num % 10\n",
        "    sum_of_digits += digit\n",
        "    num = num // 10\n",
        "\n",
        "print(\"The sum of digits is:\", sum_of_digits)\n"
      ],
      "metadata": {
        "colab": {
          "base_uri": "https://localhost:8080/"
        },
        "id": "Nj-Uzi0x8VD7",
        "outputId": "9c550ac1-de46-4097-a6c6-af5eabe0abcf"
      },
      "execution_count": 14,
      "outputs": [
        {
          "output_type": "stream",
          "name": "stdout",
          "text": [
            "Enter a number: 0637\n",
            "The sum of digits is: 16\n"
          ]
        }
      ]
    },
    {
      "cell_type": "markdown",
      "source": [
        "#Q14: Write a Python program to find the greatest common divisor (GCD) of two numbers using a while loop. Example: Input: 36, 60 Output: 12"
      ],
      "metadata": {
        "id": "14m4vxrD8l9U"
      }
    },
    {
      "cell_type": "code",
      "source": [
        "def find_gcd(a, b):\n",
        "    while b != 0:\n",
        "        a, b = b, a % b\n",
        "    return a\n",
        "\n",
        "num1 = int(input(\"Enter the first number: \"))\n",
        "num2 = int(input(\"Enter the second number: \"))\n",
        "\n",
        "gcd = find_gcd(num1, num2)\n",
        "print(\"The GCD of\", num1, \"and\", num2, \"is\", gcd)\n"
      ],
      "metadata": {
        "colab": {
          "base_uri": "https://localhost:8080/"
        },
        "id": "4EVXZ52W8pgx",
        "outputId": "57f5d2d0-6a15-4d56-f339-a2a95aace5b1"
      },
      "execution_count": 15,
      "outputs": [
        {
          "output_type": "stream",
          "name": "stdout",
          "text": [
            "Enter the first number: 94\n",
            "Enter the second number: 72\n",
            "The GCD of 94 and 72 is 2\n"
          ]
        }
      ]
    },
    {
      "cell_type": "markdown",
      "source": [
        "#Q15: Write a Python program to calculate the power of a number using a while loop (without using the ** operator). Example: Input: base = 2, exponent = 4 Output: 16 (because 2^4 = 16)"
      ],
      "metadata": {
        "id": "C9N536fB9JfR"
      }
    },
    {
      "cell_type": "code",
      "source": [
        "base = int(input(\"Enter the base: \"))\n",
        "exponent = int(input(\"Enter the exponent: \"))\n",
        "result = 1\n",
        "\n",
        "while exponent > 0:\n",
        "    result *= base\n",
        "    exponent -= 1\n",
        "\n",
        "print(\"The result is:\", result)"
      ],
      "metadata": {
        "colab": {
          "base_uri": "https://localhost:8080/"
        },
        "id": "_UGvsgwp9NU_",
        "outputId": "aba0668a-9751-4956-8c92-5aab87836c4b"
      },
      "execution_count": 16,
      "outputs": [
        {
          "output_type": "stream",
          "name": "stdout",
          "text": [
            "Enter the base: 83\n",
            "Enter the exponent: 69\n",
            "The result is: 2608485181860273522718017380957915212218241947417338667861914832429423041801106811104803708422934576203824921820391201060931775260803\n"
          ]
        }
      ]
    },
    {
      "cell_type": "markdown",
      "source": [
        "#Q16: Write a Python program to count the number of digits in a given number using a while loop. Example: Input: 78945 Output: 5"
      ],
      "metadata": {
        "id": "RKE48UaL9h1B"
      }
    },
    {
      "cell_type": "code",
      "source": [
        "num = int(input(\"Enter a number: \"))\n",
        "count = 0\n",
        "\n",
        "while num != 0:\n",
        "    num //= 10\n",
        "    count += 1\n",
        "\n",
        "print(\"The number of digits is:\", count)\n"
      ],
      "metadata": {
        "colab": {
          "base_uri": "https://localhost:8080/"
        },
        "id": "9EESP9jW9i4w",
        "outputId": "3c57fcb1-9379-42e6-fea4-8c73c0f499ab"
      },
      "execution_count": 17,
      "outputs": [
        {
          "output_type": "stream",
          "name": "stdout",
          "text": [
            "Enter a number: 54\n",
            "The number of digits is: 2\n"
          ]
        }
      ]
    },
    {
      "cell_type": "markdown",
      "source": [
        "#Q17: Write a Python program to check if a number is a palindrome using a while loop. Example: Input: 121 Output: \"Palindrome\""
      ],
      "metadata": {
        "id": "5kpBRxmk-Ec2"
      }
    },
    {
      "cell_type": "code",
      "source": [
        "num = int(input(\"Enter a number: \"))\n",
        "original_num = num\n",
        "reversed_num = 0\n",
        "\n",
        "while num > 0:\n",
        "    digit = num % 10\n",
        "    reversed_num = reversed_num * 10 + digit\n",
        "    num //= 10\n",
        "\n",
        "if original_num == reversed_num:\n",
        "    print(\"Palindrome\")\n",
        "else:\n",
        "    print(\"Not a palindrome\")\n"
      ],
      "metadata": {
        "colab": {
          "base_uri": "https://localhost:8080/"
        },
        "id": "Djgi0gQg-FmT",
        "outputId": "6506c29a-27df-4cd9-9fd6-84a8da1ecaf6"
      },
      "execution_count": 18,
      "outputs": [
        {
          "output_type": "stream",
          "name": "stdout",
          "text": [
            "Enter a number: 1234\n",
            "Not a palindrome\n"
          ]
        }
      ]
    },
    {
      "cell_type": "markdown",
      "source": [
        "#Q18: Write a Python program to print all the prime numbers between 1 and 50 using a while loop. Output: 2, 3, 5, 7, 11, 13, 17, 19, 23, 29, 31, 37, 41, 43, 47"
      ],
      "metadata": {
        "id": "xQxeIpM--yN-"
      }
    },
    {
      "cell_type": "code",
      "source": [
        "num = 2\n",
        "\n",
        "while num <= 50:\n",
        "    is_prime = True\n",
        "    i = 2\n",
        "    while i <= num // 2:\n",
        "        if num % i == 0:\n",
        "            is_prime = False\n",
        "            break\n",
        "        i += 1\n",
        "    if is_prime:\n",
        "        print(num, end=\", \")\n",
        "    num += 1\n"
      ],
      "metadata": {
        "colab": {
          "base_uri": "https://localhost:8080/"
        },
        "id": "fHoLyBEa-zeC",
        "outputId": "7d66e6c9-81eb-4a05-f0f3-2d7601ba4469"
      },
      "execution_count": 19,
      "outputs": [
        {
          "output_type": "stream",
          "name": "stdout",
          "text": [
            "2, 3, 5, 7, 11, 13, 17, 19, 23, 29, 31, 37, 41, 43, 47, "
          ]
        }
      ]
    },
    {
      "cell_type": "markdown",
      "source": [
        "#Q19: Write a Python program to find the least common multiple (LCM) of two numbers using a while loop. Example: Input: 12, 15 Output: 60"
      ],
      "metadata": {
        "id": "zEIw2X3G_HIr"
      }
    },
    {
      "cell_type": "code",
      "source": [
        "num1 = int(input(\"Enter the first number: \"))\n",
        "num2 = int(input(\"Enter the second number: \"))\n",
        "\n",
        "if num1 > num2:\n",
        "    greater = num1\n",
        "else:\n",
        "    greater = num2\n",
        "\n",
        "while True:\n",
        "    if greater % num1 == 0 and greater % num2 == 0:\n",
        "        lcm = greater\n",
        "        break\n",
        "    greater += 1\n",
        "\n",
        "print(\"The LCM of\", num1, \"and\", num2, \"is\", lcm)\n"
      ],
      "metadata": {
        "colab": {
          "base_uri": "https://localhost:8080/"
        },
        "id": "eH8uN9d1_IL0",
        "outputId": "8b760937-b45e-4bd3-866c-7874687db082"
      },
      "execution_count": 20,
      "outputs": [
        {
          "output_type": "stream",
          "name": "stdout",
          "text": [
            "Enter the first number: 428\n",
            "Enter the second number: 778\n",
            "The LCM of 428 and 778 is 166492\n"
          ]
        }
      ]
    },
    {
      "cell_type": "markdown",
      "source": [
        "#Q20: Write a Python program to generate the Fibonacci sequence up to a given number using a while loop. Example: Input: 10 Output: 0, 1, 1, 2, 3, 5, 8 (the Fibonacci sequence up to 10)"
      ],
      "metadata": {
        "id": "Z3kcWYmk_q4S"
      }
    },
    {
      "cell_type": "code",
      "source": [
        "limit = int(input(\"Enter the limit: \"))\n",
        "a, b = 0, 1\n",
        "\n",
        "print(a, end=\", \")\n",
        "\n",
        "while b <= limit:\n",
        "    print(b, end=\", \")\n",
        "    a, b = b, a + b\n"
      ],
      "metadata": {
        "colab": {
          "base_uri": "https://localhost:8080/"
        },
        "id": "09X4JjTD_vjc",
        "outputId": "c53940a4-12f4-4689-c8b3-567eedff892d"
      },
      "execution_count": 21,
      "outputs": [
        {
          "output_type": "stream",
          "name": "stdout",
          "text": [
            "Enter the limit: 245\n",
            "0, 1, 1, 2, 3, 5, 8, 13, 21, 34, 55, 89, 144, 233, "
          ]
        }
      ]
    }
  ]
}